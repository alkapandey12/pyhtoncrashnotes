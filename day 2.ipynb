{
 "cells": [
  {
   "cell_type": "markdown",
   "id": "20b6083d",
   "metadata": {},
   "source": [
    "# BUILT-IN DATA TYPE"
   ]
  },
  {
   "cell_type": "markdown",
   "id": "b08d7c26",
   "metadata": {},
   "source": [
    "it is necessary to understand some basic\n",
    "concepts about the core Python data types. Unlike domain-specific languages such as MATLAB or R, where\n",
    "the default data type has been chosen for numerical work, Python is a general purpose programming language\n",
    "which is also well suited to data analysis, econometrics, and statistics. For example, the basic numeric type in\n",
    "MATLAB is an array (using double precision, which is useful for floating point mathematics), while the basic\n",
    "numeric data type in Python is a 1-dimensional scalar which may be either an integer or a double-precision\n",
    "floating point, depending on the formatting of the number when input"
   ]
  },
  {
   "cell_type": "markdown",
   "id": "f31ff1ef",
   "metadata": {},
   "source": [
    "# Variable Names\n",
    "Variable names can take many forms, although they can only contain numbers, letters (both upper and lower),\n",
    "and underscores (_). They must begin with a letter or an underscore and are CaSe SeNsItIve. Additionally,\n",
    "some words are reserved in Python and so cannot be used for variable names (e.g. import or for). For example,"
   ]
  },
  {
   "cell_type": "code",
   "execution_count": 1,
   "id": "609ec25f",
   "metadata": {},
   "outputs": [],
   "source": [
    "x = 1.0\n",
    "X = 1.0\n",
    "X1 = 1.0\n",
    "X1 = 1.0\n",
    "x1 = 1.0\n",
    "dell = 1.0\n",
    "dellreturns = 1.0\n",
    "dellReturns = 1.0\n",
    "_x = 1.0\n",
    "x_ = 1.0\n"
   ]
  },
  {
   "cell_type": "markdown",
   "id": "c4d341e4",
   "metadata": {},
   "source": [
    "are all legal and distinct variable names. Note that names which begin or end with an underscore, while legal,\n",
    "are not normally used since by convention these convey special meaning.1\n",
    "Illegal names do not follow these\n",
    "rules."
   ]
  },
  {
   "cell_type": "code",
   "execution_count": null,
   "id": "6d40f226",
   "metadata": {},
   "outputs": [],
   "source": [
    "# Not allowed\n",
    "x: = 1.0\n",
    "1X = 1\n",
    "X-1 = 1\n",
    "for = 1\n"
   ]
  },
  {
   "cell_type": "markdown",
   "id": "44038763",
   "metadata": {},
   "source": [
    "Multiple variables can be assigned on the same line using commas,"
   ]
  },
  {
   "cell_type": "code",
   "execution_count": 2,
   "id": "28745154",
   "metadata": {},
   "outputs": [],
   "source": [
    "x, y, z = 1, 3.1415, 'a'\n"
   ]
  },
  {
   "cell_type": "markdown",
   "id": "3b0644fd",
   "metadata": {},
   "source": [
    "# Core Native Data Types\n"
   ]
  },
  {
   "cell_type": "markdown",
   "id": "6771946c",
   "metadata": {},
   "source": [
    "# Numeric\n",
    "Simple numbers in Python can be either integers, floats or complex. i am not cover all Python data\n",
    "types and instead focuses on those which are most relevant for numerical analysis, econometrics, and statistics.\n",
    "The byte, bytearray and memoryview data types are not described."
   ]
  },
  {
   "cell_type": "markdown",
   "id": "8614efed",
   "metadata": {},
   "source": [
    "# Floating Point (float)\n",
    "The most important (scalar) data type for numerical analysis is the float. Unfortunately, not all non-complex\n",
    "numeric data types are floats. To input a floating data type, it is necessary to include a . (period, dot) in the\n",
    "expression. This example uses the function type() to determine the data type of a variable."
   ]
  },
  {
   "cell_type": "code",
   "execution_count": 3,
   "id": "48a4e3b5",
   "metadata": {},
   "outputs": [
    {
     "data": {
      "text/plain": [
       "int"
      ]
     },
     "execution_count": 3,
     "metadata": {},
     "output_type": "execute_result"
    }
   ],
   "source": [
    "x=1\n",
    "type(x)"
   ]
  },
  {
   "cell_type": "code",
   "execution_count": 4,
   "id": "7dc82a7b",
   "metadata": {},
   "outputs": [
    {
     "data": {
      "text/plain": [
       "float"
      ]
     },
     "execution_count": 4,
     "metadata": {},
     "output_type": "execute_result"
    }
   ],
   "source": [
    "x=1.0\n",
    "type(x)"
   ]
  },
  {
   "cell_type": "code",
   "execution_count": 5,
   "id": "27948958",
   "metadata": {},
   "outputs": [
    {
     "data": {
      "text/plain": [
       "float"
      ]
     },
     "execution_count": 5,
     "metadata": {},
     "output_type": "execute_result"
    }
   ],
   "source": [
    "x=float(1)\n",
    "type(x)"
   ]
  },
  {
   "cell_type": "markdown",
   "id": "52ac964d",
   "metadata": {},
   "source": [
    "this example shows that using the expression that x = 1 produces an integer-valued variable while x = 1.0\n",
    "produces a float-valued variable. Using integers can produce unexpected results and so it is important to include\n",
    "“.0” when expecting a float"
   ]
  },
  {
   "cell_type": "markdown",
   "id": "1fe8dc1e",
   "metadata": {},
   "source": [
    "# Complex (complex)\n",
    "Complex numbers are also important for numerical analysis. Complex numbers are created in Python using j\n",
    "or the function complex()."
   ]
  },
  {
   "cell_type": "code",
   "execution_count": 6,
   "id": "b214d822",
   "metadata": {},
   "outputs": [
    {
     "data": {
      "text/plain": [
       "complex"
      ]
     },
     "execution_count": 6,
     "metadata": {},
     "output_type": "execute_result"
    }
   ],
   "source": [
    "x=1j\n",
    "type(x)"
   ]
  },
  {
   "cell_type": "code",
   "execution_count": 7,
   "id": "0d02e4e5",
   "metadata": {},
   "outputs": [
    {
     "data": {
      "text/plain": [
       "complex"
      ]
     },
     "execution_count": 7,
     "metadata": {},
     "output_type": "execute_result"
    }
   ],
   "source": [
    "x=2+3j\n",
    "type(x)"
   ]
  },
  {
   "cell_type": "code",
   "execution_count": 8,
   "id": "90517c04",
   "metadata": {},
   "outputs": [
    {
     "data": {
      "text/plain": [
       "(1+0j)"
      ]
     },
     "execution_count": 8,
     "metadata": {},
     "output_type": "execute_result"
    }
   ],
   "source": [
    "x=complex(1)\n",
    "x"
   ]
  },
  {
   "cell_type": "markdown",
   "id": "bb720c3f",
   "metadata": {},
   "source": [
    "# Integers (int)\n",
    "Floats use an approximation to represent numbers which may contain a decimal portion. The integer data\n",
    "type stores numbers using an exact representation, so that no approximation is needed. The cost of the exact\n",
    "representation is that the integer data type cannot express anything that isn’t an integer, rendering integers of\n",
    "limited use in most numerical work.\n",
    "Basic integers can be entered either by excluding the decimal (see float), or explicitly using the int()\n",
    "function. The int() function can also be used to convert a float to an integer by round towards 0."
   ]
  },
  {
   "cell_type": "code",
   "execution_count": 9,
   "id": "fc9dc1a2",
   "metadata": {},
   "outputs": [
    {
     "data": {
      "text/plain": [
       "int"
      ]
     },
     "execution_count": 9,
     "metadata": {},
     "output_type": "execute_result"
    }
   ],
   "source": [
    "x=1\n",
    "type(x)"
   ]
  },
  {
   "cell_type": "code",
   "execution_count": 10,
   "id": "13fd9b58",
   "metadata": {},
   "outputs": [
    {
     "data": {
      "text/plain": [
       "float"
      ]
     },
     "execution_count": 10,
     "metadata": {},
     "output_type": "execute_result"
    }
   ],
   "source": [
    "x=1.0\n",
    "type(x)"
   ]
  },
  {
   "cell_type": "code",
   "execution_count": 11,
   "id": "4f3ab2c3",
   "metadata": {},
   "outputs": [],
   "source": [
    "x=int(x)"
   ]
  },
  {
   "cell_type": "code",
   "execution_count": 12,
   "id": "9346c01f",
   "metadata": {},
   "outputs": [
    {
     "data": {
      "text/plain": [
       "int"
      ]
     },
     "execution_count": 12,
     "metadata": {},
     "output_type": "execute_result"
    }
   ],
   "source": [
    "type(x)"
   ]
  },
  {
   "cell_type": "markdown",
   "id": "4a3c5bf0",
   "metadata": {},
   "source": [
    "python integers support have unlimited range since the amount of bits used to store an integer is dynamic"
   ]
  },
  {
   "cell_type": "code",
   "execution_count": 13,
   "id": "71c0df6c",
   "metadata": {},
   "outputs": [
    {
     "data": {
      "text/plain": [
       "1"
      ]
     },
     "execution_count": 13,
     "metadata": {},
     "output_type": "execute_result"
    }
   ],
   "source": [
    "x=1\n",
    "x"
   ]
  },
  {
   "cell_type": "code",
   "execution_count": 14,
   "id": "a8825d89",
   "metadata": {},
   "outputs": [
    {
     "data": {
      "text/plain": [
       "int"
      ]
     },
     "execution_count": 14,
     "metadata": {},
     "output_type": "execute_result"
    }
   ],
   "source": [
    "type(x)"
   ]
  },
  {
   "cell_type": "code",
   "execution_count": 16,
   "id": "e60f4083",
   "metadata": {},
   "outputs": [
    {
     "data": {
      "text/plain": [
       "170141183460469231768580791863303208960"
      ]
     },
     "execution_count": 16,
     "metadata": {},
     "output_type": "execute_result"
    }
   ],
   "source": [
    "x=2**127+2**65               # ** is denote exponentiation , y^64 in tax\n",
    "\n",
    "x"
   ]
  },
  {
   "cell_type": "markdown",
   "id": "cece6e7e",
   "metadata": {},
   "source": [
    "# Boolean (bool)\n",
    "The Boolean data type is used to represent true and false, using the reserved keywords True and False"
   ]
  },
  {
   "cell_type": "code",
   "execution_count": 17,
   "id": "1d7c5a15",
   "metadata": {},
   "outputs": [
    {
     "data": {
      "text/plain": [
       "bool"
      ]
     },
     "execution_count": 17,
     "metadata": {},
     "output_type": "execute_result"
    }
   ],
   "source": [
    "x=True\n",
    "type(x)"
   ]
  },
  {
   "cell_type": "code",
   "execution_count": 19,
   "id": "e2343fe3",
   "metadata": {},
   "outputs": [
    {
     "data": {
      "text/plain": [
       "True"
      ]
     },
     "execution_count": 19,
     "metadata": {},
     "output_type": "execute_result"
    }
   ],
   "source": [
    "x=bool(1)\n",
    "type(x)\n",
    "\n",
    "x"
   ]
  },
  {
   "cell_type": "code",
   "execution_count": 21,
   "id": "7a3c721d",
   "metadata": {},
   "outputs": [
    {
     "data": {
      "text/plain": [
       "True"
      ]
     },
     "execution_count": 21,
     "metadata": {},
     "output_type": "execute_result"
    }
   ],
   "source": [
    "x=bool(10)\n",
    "x"
   ]
  },
  {
   "cell_type": "markdown",
   "id": "daac4101",
   "metadata": {},
   "source": [
    "# Strings (str)\n",
    "Strings are not usually important for numerical analysis, although they are frequently encountered when dealing\n",
    "with data files, especially when importing or when formatting output for human consumption. Strings are\n",
    "delimited using single quotes ('') or double quotes (\"\") but not using combination of the two delimiters (i.e.,\n",
    "do not use '\") in a single string, except when used to express a quotation"
   ]
  },
  {
   "cell_type": "code",
   "execution_count": 22,
   "id": "907efad7",
   "metadata": {},
   "outputs": [],
   "source": [
    "x=\"abs\""
   ]
  },
  {
   "cell_type": "markdown",
   "id": "0bc5ca4f",
   "metadata": {},
   "source": [
    "type(x)"
   ]
  },
  {
   "cell_type": "code",
   "execution_count": 24,
   "id": "6ef4e58a",
   "metadata": {},
   "outputs": [
    {
     "data": {
      "text/plain": [
       "str"
      ]
     },
     "execution_count": 24,
     "metadata": {},
     "output_type": "execute_result"
    }
   ],
   "source": [
    "y=\"A quotation!\"\n",
    "type(y)"
   ]
  },
  {
   "cell_type": "markdown",
   "id": "59bb0b1e",
   "metadata": {},
   "source": [
    "# Slicing Strings"
   ]
  },
  {
   "cell_type": "code",
   "execution_count": 25,
   "id": "c4cc0303",
   "metadata": {},
   "outputs": [
    {
     "data": {
      "text/plain": [
       "'p'"
      ]
     },
     "execution_count": 25,
     "metadata": {},
     "output_type": "execute_result"
    }
   ],
   "source": [
    "text=\"python string are sliceble\"\n",
    "text[0]"
   ]
  },
  {
   "cell_type": "code",
   "execution_count": 26,
   "id": "15c77e35",
   "metadata": {},
   "outputs": [
    {
     "data": {
      "text/plain": [
       "'i'"
      ]
     },
     "execution_count": 26,
     "metadata": {},
     "output_type": "execute_result"
    }
   ],
   "source": [
    "text[10]"
   ]
  },
  {
   "cell_type": "code",
   "execution_count": 27,
   "id": "35d4b9f3",
   "metadata": {},
   "outputs": [],
   "source": [
    "l=len(text)"
   ]
  },
  {
   "cell_type": "code",
   "execution_count": 29,
   "id": "a4a1154d",
   "metadata": {},
   "outputs": [
    {
     "ename": "IndexError",
     "evalue": "string index out of range",
     "output_type": "error",
     "traceback": [
      "\u001b[1;31m---------------------------------------------------------------------------\u001b[0m",
      "\u001b[1;31mIndexError\u001b[0m                                Traceback (most recent call last)",
      "Input \u001b[1;32mIn [29]\u001b[0m, in \u001b[0;36m<cell line: 1>\u001b[1;34m()\u001b[0m\n\u001b[1;32m----> 1\u001b[0m \u001b[43mtext\u001b[49m\u001b[43m[\u001b[49m\u001b[43ml\u001b[49m\u001b[43m]\u001b[49m\n",
      "\u001b[1;31mIndexError\u001b[0m: string index out of range"
     ]
    }
   ],
   "source": [
    "text[l]"
   ]
  },
  {
   "cell_type": "code",
   "execution_count": 30,
   "id": "30bb038c",
   "metadata": {},
   "outputs": [
    {
     "data": {
      "text/plain": [
       "'e'"
      ]
     },
     "execution_count": 30,
     "metadata": {},
     "output_type": "execute_result"
    }
   ],
   "source": [
    "text[l-1]"
   ]
  },
  {
   "cell_type": "code",
   "execution_count": 31,
   "id": "51952dc0",
   "metadata": {},
   "outputs": [
    {
     "data": {
      "text/plain": [
       "'python str'"
      ]
     },
     "execution_count": 31,
     "metadata": {},
     "output_type": "execute_result"
    }
   ],
   "source": [
    "text[:10]\n"
   ]
  },
  {
   "cell_type": "code",
   "execution_count": 33,
   "id": "7df2467a",
   "metadata": {},
   "outputs": [
    {
     "data": {
      "text/plain": [
       "'ing are sliceble'"
      ]
     },
     "execution_count": 33,
     "metadata": {},
     "output_type": "execute_result"
    }
   ],
   "source": [
    "text[10:]"
   ]
  },
  {
   "cell_type": "markdown",
   "id": "86bf0844",
   "metadata": {},
   "source": [
    "# Lists are a built-in container data type which hold other data. A list is a collection of other objects – floats,\n",
    "integers, complex numbers, strings or even other lists. Lists are essential to Python programming and are used\n",
    "to store collections of other values. For example, a list of floats can be used to express a vector (although the\n",
    "NumPy data type array is better suited to working with collections of numeric values). Lists also support\n",
    "slicing to retrieve one or more elements. Basic lists are constructed using square braces, [], and values are\n",
    "separated using commas.\n"
   ]
  },
  {
   "cell_type": "code",
   "execution_count": 34,
   "id": "458d35db",
   "metadata": {},
   "outputs": [
    {
     "data": {
      "text/plain": [
       "list"
      ]
     },
     "execution_count": 34,
     "metadata": {},
     "output_type": "execute_result"
    }
   ],
   "source": [
    "x=[]\n",
    "type(x)"
   ]
  },
  {
   "cell_type": "code",
   "execution_count": 35,
   "id": "8cd1e205",
   "metadata": {},
   "outputs": [
    {
     "data": {
      "text/plain": [
       "[1, 2, 3, 4]"
      ]
     },
     "execution_count": 35,
     "metadata": {},
     "output_type": "execute_result"
    }
   ],
   "source": [
    "x=[1,2,3,4]\n",
    "x"
   ]
  },
  {
   "cell_type": "code",
   "execution_count": 37,
   "id": "3c62c611",
   "metadata": {},
   "outputs": [
    {
     "data": {
      "text/plain": [
       "[[1, 2, 3, 4], [5, 6, 7, 8]]"
      ]
     },
     "execution_count": 37,
     "metadata": {},
     "output_type": "execute_result"
    }
   ],
   "source": [
    "#2-dimensional list (list of lists)\n",
    "x=[[1,2,3,4],[5,6,7,8]]\n",
    "x"
   ]
  },
  {
   "cell_type": "code",
   "execution_count": 39,
   "id": "992e7b4c",
   "metadata": {},
   "outputs": [
    {
     "data": {
      "text/plain": [
       "[[1, 2, 3, 4], [5, 6, 7]]"
      ]
     },
     "execution_count": 39,
     "metadata": {},
     "output_type": "execute_result"
    }
   ],
   "source": [
    "#jagged list , not rectangular\n",
    "x=[[1,2,3,4],[5,6,7]]\n",
    "x"
   ]
  },
  {
   "cell_type": "code",
   "execution_count": 40,
   "id": "8333cfb9",
   "metadata": {},
   "outputs": [],
   "source": [
    "#mixed data types\n",
    "x=[1,1.0,1+0j,\"one\",None,True]"
   ]
  },
  {
   "cell_type": "code",
   "execution_count": 41,
   "id": "3dc9e925",
   "metadata": {},
   "outputs": [
    {
     "data": {
      "text/plain": [
       "[1, 1.0, (1+0j), 'one', None, True]"
      ]
     },
     "execution_count": 41,
     "metadata": {},
     "output_type": "execute_result"
    }
   ],
   "source": [
    "x"
   ]
  },
  {
   "cell_type": "markdown",
   "id": "1c89468e",
   "metadata": {},
   "source": [
    "These examples show that lists can be regular, nested and can contain any mix of data types including other\n",
    "list"
   ]
  },
  {
   "cell_type": "markdown",
   "id": "80d8809c",
   "metadata": {},
   "source": [
    "# Slicing Lists\n"
   ]
  },
  {
   "cell_type": "code",
   "execution_count": 42,
   "id": "6d5cc59a",
   "metadata": {},
   "outputs": [
    {
     "data": {
      "text/plain": [
       "0"
      ]
     },
     "execution_count": 42,
     "metadata": {},
     "output_type": "execute_result"
    }
   ],
   "source": [
    "x=[0,1,2,3,4,5,6,7,8,9]\n",
    "x[0]"
   ]
  },
  {
   "cell_type": "code",
   "execution_count": 43,
   "id": "05f6c522",
   "metadata": {},
   "outputs": [
    {
     "data": {
      "text/plain": [
       "5"
      ]
     },
     "execution_count": 43,
     "metadata": {},
     "output_type": "execute_result"
    }
   ],
   "source": [
    "x[5]"
   ]
  },
  {
   "cell_type": "code",
   "execution_count": 44,
   "id": "9178bb4c",
   "metadata": {},
   "outputs": [
    {
     "ename": "IndexError",
     "evalue": "list index out of range",
     "output_type": "error",
     "traceback": [
      "\u001b[1;31m---------------------------------------------------------------------------\u001b[0m",
      "\u001b[1;31mIndexError\u001b[0m                                Traceback (most recent call last)",
      "Input \u001b[1;32mIn [44]\u001b[0m, in \u001b[0;36m<cell line: 1>\u001b[1;34m()\u001b[0m\n\u001b[1;32m----> 1\u001b[0m \u001b[43mx\u001b[49m\u001b[43m[\u001b[49m\u001b[38;5;241;43m10\u001b[39;49m\u001b[43m]\u001b[49m\n",
      "\u001b[1;31mIndexError\u001b[0m: list index out of range"
     ]
    }
   ],
   "source": [
    "x[10] #error"
   ]
  },
  {
   "cell_type": "code",
   "execution_count": 45,
   "id": "7abb3a28",
   "metadata": {},
   "outputs": [
    {
     "data": {
      "text/plain": [
       "[0, 1, 2, 3]"
      ]
     },
     "execution_count": 45,
     "metadata": {},
     "output_type": "execute_result"
    }
   ],
   "source": [
    "x[:4]"
   ]
  },
  {
   "cell_type": "code",
   "execution_count": 46,
   "id": "079ed289",
   "metadata": {},
   "outputs": [
    {
     "data": {
      "text/plain": [
       "[4, 5, 6, 7, 8, 9]"
      ]
     },
     "execution_count": 46,
     "metadata": {},
     "output_type": "execute_result"
    }
   ],
   "source": [
    "x[4:]"
   ]
  },
  {
   "cell_type": "code",
   "execution_count": 47,
   "id": "4556fb69",
   "metadata": {},
   "outputs": [
    {
     "data": {
      "text/plain": [
       "[1, 2, 3]"
      ]
     },
     "execution_count": 47,
     "metadata": {},
     "output_type": "execute_result"
    }
   ],
   "source": [
    "x[1:4]"
   ]
  },
  {
   "cell_type": "code",
   "execution_count": 48,
   "id": "4a5e80f0",
   "metadata": {},
   "outputs": [
    {
     "data": {
      "text/plain": [
       "0"
      ]
     },
     "execution_count": 48,
     "metadata": {},
     "output_type": "execute_result"
    }
   ],
   "source": [
    "x[-0]"
   ]
  },
  {
   "cell_type": "code",
   "execution_count": 49,
   "id": "2a9c08a4",
   "metadata": {},
   "outputs": [
    {
     "data": {
      "text/plain": [
       "9"
      ]
     },
     "execution_count": 49,
     "metadata": {},
     "output_type": "execute_result"
    }
   ],
   "source": [
    "x[-1]"
   ]
  },
  {
   "cell_type": "code",
   "execution_count": 50,
   "id": "babbb96d",
   "metadata": {},
   "outputs": [
    {
     "data": {
      "text/plain": [
       "[0, 1, 2, 3, 4, 5, 6, 7, 8]"
      ]
     },
     "execution_count": 50,
     "metadata": {},
     "output_type": "execute_result"
    }
   ],
   "source": [
    "x[-10:-1]"
   ]
  },
  {
   "cell_type": "markdown",
   "id": "389a46ec",
   "metadata": {},
   "source": [
    "List can be multidimensional, and slicing can be done directly in higher dimensions. For simplicity, consider\n",
    "slicing a 2-dimensional list x = [[1,2,3,4], [5,6,7,8]]. If single indexing is used, x[0] will return the\n",
    "first (inner) list, and x[1] will return the second (inner) list. Since the list returned by x[0] is sliceable, the\n",
    "inner list can be directly sliced using x[0][0] or x[0][1:4].\n"
   ]
  },
  {
   "cell_type": "code",
   "execution_count": 51,
   "id": "e11bc2a5",
   "metadata": {},
   "outputs": [],
   "source": [
    "x=[[1,2,3,4],[5,6,7,8]]"
   ]
  },
  {
   "cell_type": "code",
   "execution_count": 52,
   "id": "f9e1ad67",
   "metadata": {},
   "outputs": [
    {
     "data": {
      "text/plain": [
       "[1, 2, 3, 4]"
      ]
     },
     "execution_count": 52,
     "metadata": {},
     "output_type": "execute_result"
    }
   ],
   "source": [
    "x[0]"
   ]
  },
  {
   "cell_type": "code",
   "execution_count": 53,
   "id": "de288453",
   "metadata": {},
   "outputs": [
    {
     "data": {
      "text/plain": [
       "[5, 6, 7, 8]"
      ]
     },
     "execution_count": 53,
     "metadata": {},
     "output_type": "execute_result"
    }
   ],
   "source": [
    "x[1]"
   ]
  },
  {
   "cell_type": "code",
   "execution_count": 55,
   "id": "f54a7a01",
   "metadata": {},
   "outputs": [
    {
     "data": {
      "text/plain": [
       "[2, 3, 4]"
      ]
     },
     "execution_count": 55,
     "metadata": {},
     "output_type": "execute_result"
    }
   ],
   "source": [
    "x[0][1:4]"
   ]
  },
  {
   "cell_type": "code",
   "execution_count": 56,
   "id": "83307388",
   "metadata": {},
   "outputs": [
    {
     "data": {
      "text/plain": [
       "[5, 6, 7]"
      ]
     },
     "execution_count": 56,
     "metadata": {},
     "output_type": "execute_result"
    }
   ],
   "source": [
    "x[1][-4:-1]"
   ]
  },
  {
   "cell_type": "markdown",
   "id": "bfdd5890",
   "metadata": {},
   "source": [
    "# List Functions\n",
    "A number of functions are available for manipulating lists. The most useful are"
   ]
  },
  {
   "cell_type": "code",
   "execution_count": 57,
   "id": "ae3d2a12",
   "metadata": {},
   "outputs": [
    {
     "data": {
      "text/plain": [
       "[0, 1, 2, 3, 4, 5, 6, 7, 8, 9, 0]"
      ]
     },
     "execution_count": 57,
     "metadata": {},
     "output_type": "execute_result"
    }
   ],
   "source": [
    "x=[0,1,2,3,4,5,6,7,8,9]\n",
    "x.append(0)\n",
    "x"
   ]
  },
  {
   "cell_type": "code",
   "execution_count": 58,
   "id": "558e2222",
   "metadata": {},
   "outputs": [
    {
     "data": {
      "text/plain": [
       "11"
      ]
     },
     "execution_count": 58,
     "metadata": {},
     "output_type": "execute_result"
    }
   ],
   "source": [
    "len(x)"
   ]
  },
  {
   "cell_type": "code",
   "execution_count": 59,
   "id": "175972b9",
   "metadata": {},
   "outputs": [
    {
     "data": {
      "text/plain": [
       "[0, 1, 2, 3, 4, 5, 6, 7, 8, 9, 0, 11, 12, 13]"
      ]
     },
     "execution_count": 59,
     "metadata": {},
     "output_type": "execute_result"
    }
   ],
   "source": [
    "x.extend([11,12,13])\n",
    "x"
   ]
  },
  {
   "cell_type": "code",
   "execution_count": 60,
   "id": "8d5f9fb4",
   "metadata": {},
   "outputs": [
    {
     "data": {
      "text/plain": [
       "1"
      ]
     },
     "execution_count": 60,
     "metadata": {},
     "output_type": "execute_result"
    }
   ],
   "source": [
    "x.pop(1)"
   ]
  },
  {
   "cell_type": "code",
   "execution_count": 61,
   "id": "0788032d",
   "metadata": {},
   "outputs": [],
   "source": [
    "x.remove(0)"
   ]
  },
  {
   "cell_type": "code",
   "execution_count": 62,
   "id": "f6c22968",
   "metadata": {},
   "outputs": [
    {
     "data": {
      "text/plain": [
       "[2, 3, 4, 5, 6, 7, 8, 9, 0, 11, 12, 13]"
      ]
     },
     "execution_count": 62,
     "metadata": {},
     "output_type": "execute_result"
    }
   ],
   "source": [
    "x"
   ]
  },
  {
   "cell_type": "code",
   "execution_count": 63,
   "id": "ad669a47",
   "metadata": {},
   "outputs": [
    {
     "data": {
      "text/plain": [
       "[2, 3, 4, 5, 6, 7, 8, 9, 0, 11, 12, 13]"
      ]
     },
     "execution_count": 63,
     "metadata": {},
     "output_type": "execute_result"
    }
   ],
   "source": [
    "x"
   ]
  },
  {
   "cell_type": "markdown",
   "id": "4ea69ffb",
   "metadata": {},
   "source": [
    "Elements can also be deleted from lists using the keyword del in combination with a slice"
   ]
  },
  {
   "cell_type": "code",
   "execution_count": 64,
   "id": "02a13044",
   "metadata": {},
   "outputs": [
    {
     "data": {
      "text/plain": [
       "[1, 2, 3, 4, 5, 6, 7, 8, 9]"
      ]
     },
     "execution_count": 64,
     "metadata": {},
     "output_type": "execute_result"
    }
   ],
   "source": [
    "x=[0,1,2,3,4,5,6,7,8,9]\n",
    "del x[0]\n",
    "x"
   ]
  },
  {
   "cell_type": "code",
   "execution_count": 65,
   "id": "996321ae",
   "metadata": {},
   "outputs": [
    {
     "data": {
      "text/plain": [
       "[1, 2, 3]"
      ]
     },
     "execution_count": 65,
     "metadata": {},
     "output_type": "execute_result"
    }
   ],
   "source": [
    "x[:3]"
   ]
  },
  {
   "cell_type": "code",
   "execution_count": 66,
   "id": "50c6cb4b",
   "metadata": {},
   "outputs": [
    {
     "data": {
      "text/plain": [
       "[1, 4, 5, 6, 7, 8, 9]"
      ]
     },
     "execution_count": 66,
     "metadata": {},
     "output_type": "execute_result"
    }
   ],
   "source": [
    "del x[1:3]\n",
    "x"
   ]
  },
  {
   "cell_type": "code",
   "execution_count": 70,
   "id": "60f70a6f",
   "metadata": {},
   "outputs": [
    {
     "data": {
      "text/plain": [
       "[]"
      ]
     },
     "execution_count": 70,
     "metadata": {},
     "output_type": "execute_result"
    }
   ],
   "source": [
    "del x[:]\n",
    "x"
   ]
  },
  {
   "cell_type": "markdown",
   "id": "964b8537",
   "metadata": {},
   "source": [
    "# Tuples (tuple)\n",
    "A tuple is virtually identical to a list with one important difference – tuples are immutable. Immutability means\n",
    "that a tuple cannot be changed once created. It is not possible to add, remove, or replace elements in a tuple.\n",
    "However, if a tuple contains a mutable data type, for example a tuple that contains a list, the contents mutable\n",
    "data type can be altered.\n",
    "Tuples are constructed using parentheses (()) in place of the square brackets ([]) used to create lists. Tuples\n",
    "can be sliced in an identical manner as lists. A list can be converted into a tuple using tuple() (Similarly, a\n",
    "tuple can be converted to list using list())."
   ]
  },
  {
   "cell_type": "code",
   "execution_count": 71,
   "id": "84b60c14",
   "metadata": {},
   "outputs": [
    {
     "data": {
      "text/plain": [
       "tuple"
      ]
     },
     "execution_count": 71,
     "metadata": {},
     "output_type": "execute_result"
    }
   ],
   "source": [
    "x=(0,1,2,3,4,5,6,7,8,9)\n",
    "type(x)"
   ]
  },
  {
   "cell_type": "code",
   "execution_count": 72,
   "id": "aef8494e",
   "metadata": {},
   "outputs": [
    {
     "data": {
      "text/plain": [
       "0"
      ]
     },
     "execution_count": 72,
     "metadata": {},
     "output_type": "execute_result"
    }
   ],
   "source": [
    "x[0]"
   ]
  },
  {
   "cell_type": "code",
   "execution_count": 73,
   "id": "fe8305b1",
   "metadata": {},
   "outputs": [
    {
     "data": {
      "text/plain": [
       "(0, 1, 2, 3, 4)"
      ]
     },
     "execution_count": 73,
     "metadata": {},
     "output_type": "execute_result"
    }
   ],
   "source": [
    "x[-10:-5]"
   ]
  },
  {
   "cell_type": "code",
   "execution_count": 74,
   "id": "f7e6ef6d",
   "metadata": {},
   "outputs": [
    {
     "data": {
      "text/plain": [
       "list"
      ]
     },
     "execution_count": 74,
     "metadata": {},
     "output_type": "execute_result"
    }
   ],
   "source": [
    "x=list(x)\n",
    "type(x)"
   ]
  },
  {
   "cell_type": "code",
   "execution_count": 75,
   "id": "66de602a",
   "metadata": {},
   "outputs": [
    {
     "data": {
      "text/plain": [
       "tuple"
      ]
     },
     "execution_count": 75,
     "metadata": {},
     "output_type": "execute_result"
    }
   ],
   "source": [
    "x=tuple(x)\n",
    "type(x)"
   ]
  },
  {
   "cell_type": "code",
   "execution_count": 76,
   "id": "2972ad50",
   "metadata": {},
   "outputs": [],
   "source": [
    "x=([1,2],[3,4])"
   ]
  },
  {
   "cell_type": "code",
   "execution_count": 77,
   "id": "4c4c9303",
   "metadata": {},
   "outputs": [],
   "source": [
    "x[0][1]=-10"
   ]
  },
  {
   "cell_type": "code",
   "execution_count": 78,
   "id": "a9ea9073",
   "metadata": {},
   "outputs": [
    {
     "data": {
      "text/plain": [
       "([1, -10], [3, 4])"
      ]
     },
     "execution_count": 78,
     "metadata": {},
     "output_type": "execute_result"
    }
   ],
   "source": [
    "x #contents can chnage, elements cannot"
   ]
  },
  {
   "cell_type": "markdown",
   "id": "b2f9eadd",
   "metadata": {},
   "source": [
    "Note that tuples containing a single element must contain a comma when created, so that x = (2,) is assign\n",
    "a tuple to x, while x=(2) will assign 2 to x. The latter interprets the parentheses as if they are part of a\n",
    "mathematical formula rather than being used to construct a tuple. x = tuple([2]) can also be used to create a\n",
    "single element tuple. Lists do not have this issue since square brackets do not have this ambiguity.\n"
   ]
  },
  {
   "cell_type": "code",
   "execution_count": 79,
   "id": "c86c8c72",
   "metadata": {},
   "outputs": [
    {
     "data": {
      "text/plain": [
       "int"
      ]
     },
     "execution_count": 79,
     "metadata": {},
     "output_type": "execute_result"
    }
   ],
   "source": [
    "x=(2)\n",
    "type(x)"
   ]
  },
  {
   "cell_type": "code",
   "execution_count": 80,
   "id": "87aad5ce",
   "metadata": {},
   "outputs": [
    {
     "data": {
      "text/plain": [
       "tuple"
      ]
     },
     "execution_count": 80,
     "metadata": {},
     "output_type": "execute_result"
    }
   ],
   "source": [
    "x=(2,)\n",
    "type(x)"
   ]
  },
  {
   "cell_type": "code",
   "execution_count": 81,
   "id": "4fb7f642",
   "metadata": {},
   "outputs": [
    {
     "data": {
      "text/plain": [
       "tuple"
      ]
     },
     "execution_count": 81,
     "metadata": {},
     "output_type": "execute_result"
    }
   ],
   "source": [
    "x=tuple([12])\n",
    "type(x)"
   ]
  },
  {
   "cell_type": "markdown",
   "id": "8b60dab3",
   "metadata": {},
   "source": [
    "# Tuple Functions\n",
    "Tuples are immutable, and so only have the methods index and count, which behave in an identical manner to\n",
    "their list counterparts.\n"
   ]
  },
  {
   "cell_type": "markdown",
   "id": "805ec8fa",
   "metadata": {},
   "source": [
    "# Dictionary (dict)\n",
    "Dictionaries are encountered far less frequently than then any of the previously described data types in numer\u0002ical Python. They are, however, commonly used to pass options into other functions such as optimizers, and\n",
    "so familiarity with dictionaries is important. Dictionaries in Python are composed of keys (words) and values.\n",
    "definitions). Dictionaries keys must be unique immutable data types (e.g. strings, the most common key, in\u0002tegers, or tuples containing immutable types), and values can contain any valid Python data type.3 Values are\n",
    "accessed using keys."
   ]
  },
  {
   "cell_type": "code",
   "execution_count": 82,
   "id": "9b225b9b",
   "metadata": {},
   "outputs": [
    {
     "data": {
      "text/plain": [
       "dict"
      ]
     },
     "execution_count": 82,
     "metadata": {},
     "output_type": "execute_result"
    }
   ],
   "source": [
    "data={\"age\":34,\"children\":[1,2],1:\"apple\"}\n",
    "type(data)\n"
   ]
  },
  {
   "cell_type": "code",
   "execution_count": 83,
   "id": "ad7074bb",
   "metadata": {},
   "outputs": [
    {
     "data": {
      "text/plain": [
       "34"
      ]
     },
     "execution_count": 83,
     "metadata": {},
     "output_type": "execute_result"
    }
   ],
   "source": [
    "data[\"age\"]"
   ]
  },
  {
   "cell_type": "markdown",
   "id": "c07ceaaa",
   "metadata": {},
   "source": [
    "Values associated with an existing key can be updated by making an assignment to the key in the dictionary."
   ]
  },
  {
   "cell_type": "code",
   "execution_count": 84,
   "id": "27584dc5",
   "metadata": {},
   "outputs": [
    {
     "data": {
      "text/plain": [
       "'xyz'"
      ]
     },
     "execution_count": 84,
     "metadata": {},
     "output_type": "execute_result"
    }
   ],
   "source": [
    "data[\"age\"]=\"xyz\"\n",
    "data[\"age\"]"
   ]
  },
  {
   "cell_type": "markdown",
   "id": "16d1ef18",
   "metadata": {},
   "source": [
    "New key-value pairs can be added by defining a new key and assigning a value to it."
   ]
  },
  {
   "cell_type": "code",
   "execution_count": 85,
   "id": "a46cfa17",
   "metadata": {},
   "outputs": [
    {
     "data": {
      "text/plain": [
       "{'age': 'xyz', 'children': [1, 2], 1: 'apple', 'name': 'abc'}"
      ]
     },
     "execution_count": 85,
     "metadata": {},
     "output_type": "execute_result"
    }
   ],
   "source": [
    "data[\"name\"]=\"abc\"\n",
    "data"
   ]
  },
  {
   "cell_type": "markdown",
   "id": "8c370667",
   "metadata": {},
   "source": [
    "Key-value pairs can be deleted using the reserved keyword del.\n"
   ]
  },
  {
   "cell_type": "markdown",
   "id": "e842ce97",
   "metadata": {},
   "source": [
    "# Sets (set, frozenset)\n",
    "Sets are collections which contain all unique elements of a collection. set and frozenset only differ in that the\n",
    "latter is immutable (and so has higher performance), and so set is similar to a unique list while frozenset\n",
    "is similar to a unique tuple . While sets are generally not important in numerical analysis, they can be very\n",
    "useful when working with messy data – for example, finding the set of unique tickers in a long list of tickers"
   ]
  },
  {
   "cell_type": "markdown",
   "id": "2c4574de",
   "metadata": {},
   "source": [
    "The code below demonstrates the use of set. Note that 'MSFT' is repeated in the list used to initialize the\n",
    "set, but only appears once in the set since all elements must be unique"
   ]
  },
  {
   "cell_type": "code",
   "execution_count": 88,
   "id": "99305826",
   "metadata": {},
   "outputs": [],
   "source": [
    "x=set([\"msft\",\"goog\",\"apple\",\"hpq\",\"mfst\"])\n"
   ]
  },
  {
   "cell_type": "code",
   "execution_count": 89,
   "id": "34b1fe09",
   "metadata": {},
   "outputs": [
    {
     "data": {
      "text/plain": [
       "{'apple', 'goog', 'hpq', 'mfst', 'msft'}"
      ]
     },
     "execution_count": 89,
     "metadata": {},
     "output_type": "execute_result"
    }
   ],
   "source": [
    "x"
   ]
  },
  {
   "cell_type": "code",
   "execution_count": 90,
   "id": "fad2c67f",
   "metadata": {},
   "outputs": [],
   "source": [
    "x.add(\"csco\")"
   ]
  },
  {
   "cell_type": "code",
   "execution_count": 91,
   "id": "56f9cbd2",
   "metadata": {},
   "outputs": [
    {
     "data": {
      "text/plain": [
       "{'apple', 'csco', 'goog', 'hpq', 'mfst', 'msft'}"
      ]
     },
     "execution_count": 91,
     "metadata": {},
     "output_type": "execute_result"
    }
   ],
   "source": [
    "x"
   ]
  },
  {
   "cell_type": "code",
   "execution_count": 94,
   "id": "cd589efc",
   "metadata": {},
   "outputs": [
    {
     "data": {
      "text/plain": [
       "{'goog'}"
      ]
     },
     "execution_count": 94,
     "metadata": {},
     "output_type": "execute_result"
    }
   ],
   "source": [
    "y=set([\"xom\",\"goog\"])\n",
    "x.intersection(y)"
   ]
  },
  {
   "cell_type": "code",
   "execution_count": 96,
   "id": "4a06fd8e",
   "metadata": {},
   "outputs": [
    {
     "data": {
      "text/plain": [
       "{'apple', 'csco', 'goog', 'hpq', 'mfst', 'msft', 'xom'}"
      ]
     },
     "execution_count": 96,
     "metadata": {},
     "output_type": "execute_result"
    }
   ],
   "source": [
    "x=x.union(y)\n",
    "x"
   ]
  },
  {
   "cell_type": "markdown",
   "id": "8994ecf5",
   "metadata": {},
   "source": [
    "The code below demonstrates the use of set. Note that 'MSFT' is repeated in the list used to initialize the\n",
    "set, but only appears once in the set since all elements must be unique"
   ]
  },
  {
   "cell_type": "markdown",
   "id": "3b3d982f",
   "metadata": {},
   "source": [
    "# range"
   ]
  },
  {
   "cell_type": "code",
   "execution_count": 97,
   "id": "19c46f45",
   "metadata": {},
   "outputs": [
    {
     "data": {
      "text/plain": [
       "range"
      ]
     },
     "execution_count": 97,
     "metadata": {},
     "output_type": "execute_result"
    }
   ],
   "source": [
    "x=range(10)\n",
    "type(x)"
   ]
  },
  {
   "cell_type": "code",
   "execution_count": 98,
   "id": "f54050df",
   "metadata": {},
   "outputs": [
    {
     "name": "stdout",
     "output_type": "stream",
     "text": [
      "range(0, 10)\n"
     ]
    }
   ],
   "source": [
    "print(x)"
   ]
  },
  {
   "cell_type": "code",
   "execution_count": 99,
   "id": "1480e3be",
   "metadata": {},
   "outputs": [
    {
     "data": {
      "text/plain": [
       "[0, 1, 2, 3, 4, 5, 6, 7, 8, 9]"
      ]
     },
     "execution_count": 99,
     "metadata": {},
     "output_type": "execute_result"
    }
   ],
   "source": [
    "list(x)"
   ]
  },
  {
   "cell_type": "code",
   "execution_count": 102,
   "id": "50bd1cfb",
   "metadata": {},
   "outputs": [
    {
     "data": {
      "text/plain": [
       "[3, 4, 5, 6, 7, 8, 9]"
      ]
     },
     "execution_count": 102,
     "metadata": {},
     "output_type": "execute_result"
    }
   ],
   "source": [
    "x=range(3,10)\n",
    "list(x)"
   ]
  },
  {
   "cell_type": "code",
   "execution_count": 103,
   "id": "e390f9f1",
   "metadata": {},
   "outputs": [],
   "source": [
    "x=range(3,10,3)"
   ]
  },
  {
   "cell_type": "code",
   "execution_count": 104,
   "id": "1745c695",
   "metadata": {},
   "outputs": [
    {
     "data": {
      "text/plain": [
       "[3, 6, 9]"
      ]
     },
     "execution_count": 104,
     "metadata": {},
     "output_type": "execute_result"
    }
   ],
   "source": [
    "list(x)"
   ]
  },
  {
   "cell_type": "markdown",
   "id": "4fecabde",
   "metadata": {},
   "source": [
    "range is not technically a list, which is why the statement print(x) returns range(0,10). Explicitly\n",
    "converting with list produces a list which allows the values to be printed. range is technically an iterator\n",
    "which does not actually require the storage space of a list"
   ]
  },
  {
   "cell_type": "markdown",
   "id": "fa3c467d",
   "metadata": {},
   "source": [
    "# OrderedDict\n",
    "When using a standard Python dict, items order is not guaranteed. OrderedDict addresses this frequent short\u0002coming by retaining a list of the keys inserted into the dictionary in the order in which they have been inserted.\n",
    "The order is also preserved when deleting keys from an OrderedDict."
   ]
  },
  {
   "cell_type": "code",
   "execution_count": 107,
   "id": "531c117e",
   "metadata": {},
   "outputs": [
    {
     "name": "stdout",
     "output_type": "stream",
     "text": [
      "['key1', 'key2', 'key3']\n"
     ]
    }
   ],
   "source": [
    "from collections   import OrderedDict\n",
    "od=OrderedDict()\n",
    "od[\"key1\"]=1\n",
    "od[\"key2\"]=\"a\"\n",
    "od[\"key3\"]=\"alpha\"\n",
    "plain=dict(od)\n",
    "print(list(od.keys()))"
   ]
  },
  {
   "cell_type": "code",
   "execution_count": 108,
   "id": "d66ee175",
   "metadata": {},
   "outputs": [
    {
     "name": "stdout",
     "output_type": "stream",
     "text": [
      "['key1', 'key2', 'key3']\n"
     ]
    }
   ],
   "source": [
    "print(list(plain.keys()))"
   ]
  },
  {
   "cell_type": "code",
   "execution_count": 109,
   "id": "169ae64d",
   "metadata": {},
   "outputs": [
    {
     "name": "stdout",
     "output_type": "stream",
     "text": [
      "['key2', 'key3']\n"
     ]
    }
   ],
   "source": [
    "del od[\"key1\"]\n",
    "print(list(od.keys()))"
   ]
  },
  {
   "cell_type": "code",
   "execution_count": 110,
   "id": "71afb809",
   "metadata": {},
   "outputs": [
    {
     "name": "stdout",
     "output_type": "stream",
     "text": [
      "['key2', 'key3', 'key1']\n"
     ]
    }
   ],
   "source": [
    "od[\"key1\"]=\"some other values\"\n",
    "print(list(od.keys()))"
   ]
  },
  {
   "cell_type": "markdown",
   "id": "d24b14bf",
   "metadata": {},
   "source": [
    "# defaultdict\n",
    "By default attempting to access a key in a dictionary that does not exist will produce an error. There are\n",
    "circumstances where this is undesirable, and when a key is encountered that doesn’t exist, a default value\n",
    "should be added to the dictionary and returns. One particularly useful example of this behavior is when making\n",
    "keyed lists – that is, grouping like elements according to a key in a list. If the key exists, the elements should\n",
    "be appended to the existing list. If the key doesn’t exist, the key should be added and a new list containing the\n",
    "new element should be inserted into the disctionary. defaultdict enables this exact scenario by accepting a\n",
    "callable function as an argument. When a key is found, it behaved just like a standard dictionary. When a key\n",
    "isn’t found, the output of the callable function is assigned to the key. This example uses list to add a new list\n",
    "whenever a key is not found."
   ]
  },
  {
   "cell_type": "code",
   "execution_count": 111,
   "id": "240c0f1d",
   "metadata": {},
   "outputs": [
    {
     "ename": "KeyError",
     "evalue": "'one'",
     "output_type": "error",
     "traceback": [
      "\u001b[1;31m---------------------------------------------------------------------------\u001b[0m",
      "\u001b[1;31mKeyError\u001b[0m                                  Traceback (most recent call last)",
      "Input \u001b[1;32mIn [111]\u001b[0m, in \u001b[0;36m<cell line: 2>\u001b[1;34m()\u001b[0m\n\u001b[0;32m      1\u001b[0m d\u001b[38;5;241m=\u001b[39m{}\n\u001b[1;32m----> 2\u001b[0m \u001b[43md\u001b[49m\u001b[43m[\u001b[49m\u001b[38;5;124;43m\"\u001b[39;49m\u001b[38;5;124;43mone\u001b[39;49m\u001b[38;5;124;43m\"\u001b[39;49m\u001b[43m]\u001b[49m\u001b[38;5;241m.\u001b[39mappend(\u001b[38;5;124m\"\u001b[39m\u001b[38;5;124man item\u001b[39m\u001b[38;5;124m\"\u001b[39m)\n",
      "\u001b[1;31mKeyError\u001b[0m: 'one'"
     ]
    }
   ],
   "source": [
    "d={}\n",
    "d[\"one\"].append(\"an item\")  #error\n"
   ]
  },
  {
   "cell_type": "code",
   "execution_count": 112,
   "id": "f50bf63c",
   "metadata": {},
   "outputs": [
    {
     "name": "stdout",
     "output_type": "stream",
     "text": [
      "defaultdict(<class 'list'>, {'one': ['first', 'second', 'third']})\n"
     ]
    }
   ],
   "source": [
    "from collections import defaultdict\n",
    "dd=defaultdict(list)\n",
    "dd[\"one\"].append(\"first\")\n",
    "dd[\"one\"].append(\"second\")\n",
    "dd[\"one\"].append(\"third\")\n",
    "print(dd)"
   ]
  },
  {
   "cell_type": "markdown",
   "id": "3dc4047e",
   "metadata": {},
   "source": [
    "# Python and Memory Management\n",
    "Python uses a highly optimized memory allocation system which attempts to avoid allocating unnecessary\n",
    "memory. As a result, when one variable is assigned to another (e.g. to y = x), these will actually point to the\n",
    "same data in the computer’s memory. To verify this, id() can be used to determine the unique identification\n",
    "number of a piece of dat"
   ]
  },
  {
   "cell_type": "code",
   "execution_count": 113,
   "id": "f3c6a23f",
   "metadata": {},
   "outputs": [
    {
     "data": {
      "text/plain": [
       "3069019842864"
      ]
     },
     "execution_count": 113,
     "metadata": {},
     "output_type": "execute_result"
    }
   ],
   "source": [
    "x=1\n",
    "y=x\n",
    "id(x)"
   ]
  },
  {
   "cell_type": "code",
   "execution_count": 114,
   "id": "f0f45b89",
   "metadata": {},
   "outputs": [
    {
     "data": {
      "text/plain": [
       "3069019842864"
      ]
     },
     "execution_count": 114,
     "metadata": {},
     "output_type": "execute_result"
    }
   ],
   "source": [
    "id(y)"
   ]
  },
  {
   "cell_type": "code",
   "execution_count": 115,
   "id": "17a3558c",
   "metadata": {},
   "outputs": [
    {
     "data": {
      "text/plain": [
       "3069149099984"
      ]
     },
     "execution_count": 115,
     "metadata": {},
     "output_type": "execute_result"
    }
   ],
   "source": [
    "x=2.0\n",
    "id(x)"
   ]
  },
  {
   "cell_type": "code",
   "execution_count": 116,
   "id": "720cf37a",
   "metadata": {},
   "outputs": [
    {
     "data": {
      "text/plain": [
       "3069019842864"
      ]
     },
     "execution_count": 116,
     "metadata": {},
     "output_type": "execute_result"
    }
   ],
   "source": [
    "id(y)"
   ]
  },
  {
   "cell_type": "markdown",
   "id": "98eccafe",
   "metadata": {},
   "source": [
    "In the above example, the initial assignment of y = x produced two variables with the same ID. However, once\n",
    "x was changed, its ID changed while the ID of y did not, indicating that the data in each variable was stored\n",
    "in different locations. This behavior is both safe and efficient and is common to the basic Python immutable\n",
    "types: int, float, complex, string, tuple, frozenset and range."
   ]
  },
  {
   "cell_type": "markdown",
   "id": "a1a3f467",
   "metadata": {},
   "source": [
    "# Example: Lists"
   ]
  },
  {
   "cell_type": "markdown",
   "id": "7543ef0d",
   "metadata": {},
   "source": [
    "Lists are mutable and so assignment does not create a copy , and so changes to either variable affect both"
   ]
  },
  {
   "cell_type": "code",
   "execution_count": 117,
   "id": "b4d27bb1",
   "metadata": {},
   "outputs": [
    {
     "data": {
      "text/plain": [
       "[-10, 2, 3]"
      ]
     },
     "execution_count": 117,
     "metadata": {},
     "output_type": "execute_result"
    }
   ],
   "source": [
    "x=[1,2,3]\n",
    "y=x\n",
    "y[0]=-10\n",
    "y"
   ]
  },
  {
   "cell_type": "code",
   "execution_count": 118,
   "id": "2cca2044",
   "metadata": {},
   "outputs": [
    {
     "data": {
      "text/plain": [
       "[-10, 2, 3]"
      ]
     },
     "execution_count": 118,
     "metadata": {},
     "output_type": "execute_result"
    }
   ],
   "source": [
    "x"
   ]
  },
  {
   "cell_type": "markdown",
   "id": "d0fe1d58",
   "metadata": {},
   "source": [
    "Slicing a list creates a copy of the list and any immutable types in the list – but not mutable elements in the list"
   ]
  },
  {
   "cell_type": "code",
   "execution_count": 119,
   "id": "cf4d37d2",
   "metadata": {},
   "outputs": [
    {
     "data": {
      "text/plain": [
       "3069144968960"
      ]
     },
     "execution_count": 119,
     "metadata": {},
     "output_type": "execute_result"
    }
   ],
   "source": [
    "x=[1,2,3]\n",
    "y=x[:]\n",
    "id(x)"
   ]
  },
  {
   "cell_type": "code",
   "execution_count": 120,
   "id": "e03944ed",
   "metadata": {},
   "outputs": [
    {
     "data": {
      "text/plain": [
       "3069146444416"
      ]
     },
     "execution_count": 120,
     "metadata": {},
     "output_type": "execute_result"
    }
   ],
   "source": [
    "id(y)"
   ]
  },
  {
   "cell_type": "markdown",
   "id": "6de37267",
   "metadata": {},
   "source": [
    "When lists are nested or contain other mutable objects (which do not copy), slicing copies the outermost list to\n",
    "a new ID, but the inner lists (or other objects) are still linked. In order to copy nested lists, it is necessary to\n",
    "explicitly call deepcopy(), which is in the module copy."
   ]
  },
  {
   "cell_type": "code",
   "execution_count": 121,
   "id": "6eda983f",
   "metadata": {},
   "outputs": [],
   "source": [
    "import copy as cp\n",
    "x=[[0,1],[2,3]]\n",
    "y=cp.deepcopy(x)"
   ]
  },
  {
   "cell_type": "code",
   "execution_count": 122,
   "id": "60c3e551",
   "metadata": {},
   "outputs": [
    {
     "data": {
      "text/plain": [
       "[[-10.0, 1], [2, 3]]"
      ]
     },
     "execution_count": 122,
     "metadata": {},
     "output_type": "execute_result"
    }
   ],
   "source": [
    "y[0][0]=-10.0\n",
    "y"
   ]
  },
  {
   "cell_type": "code",
   "execution_count": 123,
   "id": "58b53595",
   "metadata": {},
   "outputs": [
    {
     "data": {
      "text/plain": [
       "[[0, 1], [2, 3]]"
      ]
     },
     "execution_count": 123,
     "metadata": {},
     "output_type": "execute_result"
    }
   ],
   "source": [
    "x"
   ]
  },
  {
   "cell_type": "markdown",
   "id": "42e5b83d",
   "metadata": {},
   "source": [
    "# excercise"
   ]
  },
  {
   "cell_type": "markdown",
   "id": "0abb1ad6",
   "metadata": {},
   "source": [
    "1. Enter the following into Python, assigning each to a unique variable name:\n",
    "(a) 4\n",
    "\n",
    "(b) 3.1415\n",
    "\n",
    "(c) 1.0\n",
    "\n",
    "(d) 2+4j\n",
    "\n",
    "(e) 'Hello'\n",
    "\n",
    "(f) 'World'"
   ]
  },
  {
   "cell_type": "code",
   "execution_count": 124,
   "id": "fec109b4",
   "metadata": {},
   "outputs": [
    {
     "data": {
      "text/plain": [
       "float"
      ]
     },
     "execution_count": 124,
     "metadata": {},
     "output_type": "execute_result"
    }
   ],
   "source": [
    "a=3.14\n",
    "type(a)"
   ]
  },
  {
   "cell_type": "code",
   "execution_count": 125,
   "id": "565e44e8",
   "metadata": {},
   "outputs": [
    {
     "data": {
      "text/plain": [
       "float"
      ]
     },
     "execution_count": 125,
     "metadata": {},
     "output_type": "execute_result"
    }
   ],
   "source": [
    "b=1.0\n",
    "type(b)"
   ]
  },
  {
   "cell_type": "code",
   "execution_count": null,
   "id": "22498a6c",
   "metadata": {},
   "outputs": [],
   "source": []
  },
  {
   "cell_type": "code",
   "execution_count": 127,
   "id": "dc3d5932",
   "metadata": {},
   "outputs": [
    {
     "data": {
      "text/plain": [
       "complex"
      ]
     },
     "execution_count": 127,
     "metadata": {},
     "output_type": "execute_result"
    }
   ],
   "source": [
    "c=2+4j\n",
    "type(c)"
   ]
  },
  {
   "cell_type": "code",
   "execution_count": 128,
   "id": "0c308414",
   "metadata": {},
   "outputs": [
    {
     "data": {
      "text/plain": [
       "str"
      ]
     },
     "execution_count": 128,
     "metadata": {},
     "output_type": "execute_result"
    }
   ],
   "source": [
    "d=\"hello\"\n",
    "type(d)"
   ]
  },
  {
   "cell_type": "code",
   "execution_count": 129,
   "id": "9c9c34d6",
   "metadata": {},
   "outputs": [
    {
     "data": {
      "text/plain": [
       "str"
      ]
     },
     "execution_count": 129,
     "metadata": {},
     "output_type": "execute_result"
    }
   ],
   "source": [
    "e=\"world\"\n",
    "type(e)"
   ]
  },
  {
   "cell_type": "code",
   "execution_count": 130,
   "id": "a8a3a297",
   "metadata": {},
   "outputs": [
    {
     "name": "stdout",
     "output_type": "stream",
     "text": [
      "a)  Python\n",
      "b)  !\n",
      "c)   computing\n",
      "d)  is\n",
      "e)  !gnitupmoc laciremun rof egaugnal lufesu dna gnitseretni na si nohtyP\n",
      "f)  nohtyP\n",
      "g)   is an interesting and useful language for numerical computingthan ind n tng a\n"
     ]
    }
   ],
   "source": [
    "ex = 'Python is an interesting and useful language for numerical computing!'\n",
    "\n",
    "# (a) Extract \"Python\"\n",
    "substring_a = ex[0:6]\n",
    "\n",
    "# (b) Extract \"!\"\n",
    "substring_b = ex[-1]\n",
    "\n",
    "# (c) Extract \"computing\"\n",
    "substring_c = ex[-11:-1]\n",
    "\n",
    "# (d) Extract \"in\"\n",
    "substring_d = ex[7:9]\n",
    "\n",
    "# (e) Reverse the entire string\n",
    "substring_e = ex[::-1]\n",
    "\n",
    "# (f) Extract \"nohtyP\" (Python reversed)\n",
    "substring_f = ex[5::-1]\n",
    "\n",
    "# (g) Extract \"Pto sa neetn n sfllnug o ueia optn!\"\n",
    "substring_g = ex[6:-1] + ex[2:4] + ex[10:14] + ex[26:29] + ex[11:13] + ex[15] + ex[22] + ex[23:26]\n",
    "\n",
    "# Print the extracted substrings\n",
    "print(\"a) \", substring_a)\n",
    "print(\"b) \", substring_b)\n",
    "print(\"c) \", substring_c)\n",
    "print(\"d) \", substring_d)\n",
    "print(\"e) \", substring_e)\n",
    "print(\"f) \", substring_f)\n",
    "print(\"g) \", substring_g)\n"
   ]
  },
  {
   "cell_type": "markdown",
   "id": "27826830",
   "metadata": {},
   "source": [
    "3.What are the direct 2 methods to construct a tuple that has only a single item? How many ways are there\n",
    "to construct a list with a single item?\n"
   ]
  },
  {
   "cell_type": "markdown",
   "id": "34fbc8bb",
   "metadata": {},
   "source": [
    " 1.Using a comma:\n",
    "You can create a tuple with a single item by placing a comma (,) after the item. For example:"
   ]
  },
  {
   "cell_type": "code",
   "execution_count": 132,
   "id": "e10ba81c",
   "metadata": {},
   "outputs": [],
   "source": [
    "single_item_tuple = (42,)\n"
   ]
  },
  {
   "cell_type": "markdown",
   "id": "98af8498",
   "metadata": {},
   "source": [
    "2.Using the tuple() constructor:\n",
    "You can also use the tuple() constructor to create a tuple with a single item. For example:"
   ]
  },
  {
   "cell_type": "code",
   "execution_count": 133,
   "id": "e0629418",
   "metadata": {},
   "outputs": [],
   "source": [
    "single_item_tuple = tuple([42])\n"
   ]
  },
  {
   "cell_type": "markdown",
   "id": "2088c42e",
   "metadata": {},
   "source": [
    "3.Using square brackets:\n",
    "You can create a list with a single item by enclosing the item in square brackets. For example3"
   ]
  },
  {
   "cell_type": "code",
   "execution_count": 135,
   "id": "83121423",
   "metadata": {},
   "outputs": [],
   "source": [
    "single_item_list = [42]\n"
   ]
  },
  {
   "cell_type": "markdown",
   "id": "b9861e64",
   "metadata": {},
   "source": [
    "4.. Construct a nested list to hold the array\n",
    "\u0014\n",
    "1 .5\n",
    ".5 1 \u0015\n",
    "so that item [i][j] corresponds to the position in the array (Remember that Python uses 0 indexing)."
   ]
  },
  {
   "cell_type": "code",
   "execution_count": 137,
   "id": "58df9ef1",
   "metadata": {},
   "outputs": [
    {
     "name": "stdout",
     "output_type": "stream",
     "text": [
      "Element at [0][1]: 0.5\n",
      "Element at [1][0]: 0.5\n"
     ]
    }
   ],
   "source": [
    "# Create a nested list to represent the 2x2 array\n",
    "nested_list = [[1, 0.5],\n",
    "              [0.5, 1]]\n",
    "\n",
    "# Accessing elements:\n",
    "# To access element at [i][j], you can use nested_list[i][j]\n",
    "\n",
    "# Example: Accessing the element at row 0, column 1 (Python uses 0-indexing)\n",
    "element_at_01 = nested_list[0][1]\n",
    "\n",
    "# Example: Accessing the element at row 1, column 0\n",
    "element_at_10 = nested_list[1][0]\n",
    "\n",
    "# Printing the elements\n",
    "print(\"Element at [0][1]:\", element_at_01)\n",
    "print(\"Element at [1][0]:\", element_at_10)\n"
   ]
  },
  {
   "cell_type": "markdown",
   "id": "7b943d44",
   "metadata": {},
   "source": [
    "5.. Assign the array you just created first to x, and then assign y=x. Change y[0][0] to 1.61. What happens\n",
    "to x?"
   ]
  },
  {
   "cell_type": "code",
   "execution_count": 138,
   "id": "4412d97f",
   "metadata": {},
   "outputs": [],
   "source": [
    "x = [[1, 0.5], [0.5, 1]]\n",
    "y = x\n"
   ]
  },
  {
   "cell_type": "code",
   "execution_count": 140,
   "id": "9c95956d",
   "metadata": {},
   "outputs": [],
   "source": [
    "y[0][0]=1.61"
   ]
  },
  {
   "cell_type": "code",
   "execution_count": 141,
   "id": "13e1a145",
   "metadata": {},
   "outputs": [
    {
     "data": {
      "text/plain": [
       "[[1.61, 0.5], [0.5, 1]]"
      ]
     },
     "execution_count": 141,
     "metadata": {},
     "output_type": "execute_result"
    }
   ],
   "source": [
    "y"
   ]
  },
  {
   "cell_type": "markdown",
   "id": "c0b04baa",
   "metadata": {},
   "source": [
    "6. Next assign z=x[:] using a simple slice. Repeat the same exercise using y[0][0] = 1j. What happens\n",
    "to x and z ? What are the ids of x, y and z? What about x[0], y[0] and z[0]?"
   ]
  },
  {
   "cell_type": "code",
   "execution_count": 143,
   "id": "10887330",
   "metadata": {},
   "outputs": [
    {
     "name": "stdout",
     "output_type": "stream",
     "text": [
      "ID of x: 3069146657792\n",
      "ID of y: 3069146657408\n",
      "ID of z: 3069146649920\n",
      "ID of x[0]: 3069146640320\n",
      "ID of y[0]: 3069146639744\n",
      "ID of z[0]: 3069146656960\n"
     ]
    }
   ],
   "source": [
    "x = [[1.61, 0.5], [0.5, 1]]\n",
    "y = [[1.61, 0.5], [0.5, 1]]\n",
    "z = x[:]\n",
    "y[0][0] = 1j\n",
    "x = [[1j, 0.5], [0.5, 1]]\n",
    "y = [[1j, 0.5], [0.5, 1]]\n",
    "z = [[1j, 0.5], [0.5, 1]]\n",
    "\n",
    "id_x = id(x)\n",
    "id_y = id(y)\n",
    "id_z = id(z)\n",
    "\n",
    "id_x0 = id(x[0])\n",
    "id_y0 = id(y[0])\n",
    "id_z0 = id(z[0])\n",
    "\n",
    "print(\"ID of x:\", id_x)\n",
    "print(\"ID of y:\", id_y)\n",
    "print(\"ID of z:\", id_z)\n",
    "\n",
    "print(\"ID of x[0]:\", id_x0)\n",
    "print(\"ID of y[0]:\", id_y0)\n",
    "print(\"ID of z[0]:\", id_z0)\n"
   ]
  },
  {
   "cell_type": "markdown",
   "id": "3c83547d",
   "metadata": {},
   "source": [
    " How could you create w from x so that w can be changed without affecting x?"
   ]
  },
  {
   "cell_type": "code",
   "execution_count": 144,
   "id": "98daa4bc",
   "metadata": {},
   "outputs": [],
   "source": [
    "import copy\n",
    "\n",
    "x = [[1j, 0.5], [0.5, 1]]\n",
    "\n",
    "# Create a deep copy of x\n",
    "w = copy.deepcopy(x)\n",
    "\n",
    "# Now, w is a completely independent copy of x\n"
   ]
  },
  {
   "cell_type": "markdown",
   "id": "38081710",
   "metadata": {},
   "source": [
    "1. Initialize a list containing 4, 3.1415, 1.0, 2+4j, 'Hello', 'World'. How could you:\n",
    "    \n",
    "(a) Delete 1.0 if you knew its position? What if you didn’t know its position?\n",
    "\n",
    "(b) How can the list [1.0, 2+4j, 'Hello'] be added to the existing list?\n",
    "\n",
    "(c) How can the list be reversed?\n",
    "\n",
    "(d) In the extended list, how can you count the occurrence of 'Hello'?\n"
   ]
  },
  {
   "cell_type": "code",
   "execution_count": 148,
   "id": "5424e077",
   "metadata": {},
   "outputs": [],
   "source": [
    "my_list = [4, 3.1415, 1.0, 2+4j, 'Hello', 'World']\n",
    "\n",
    "# If you know the position (index) of 1.0 is 2\n",
    "del my_list[2]\n",
    "\n",
    "# Now, my_list will be: [4, 3.1415, 2+4j, 'Hello', 'World']\n",
    "#my_list.remove(1.0)\n",
    "\n",
    "# This will remove the first occurrence of 1.0 from the list, regardless of its position.\n",
    "my_list.extend([1.0, 2+4j, 'Hello'])\n",
    "my_list += [1.0, 2+4j, 'Hello']\n",
    "my_list.reverse()\n"
   ]
  },
  {
   "cell_type": "markdown",
   "id": "52a5a20d",
   "metadata": {},
   "source": [
    "9.Construct a dictionary with the keyword-value pairs: 'alpha' and 1.0, 'beta' and 3.1415, 'gamma'\n",
    "and -99. How can the value of alpha be retrieved?"
   ]
  },
  {
   "cell_type": "code",
   "execution_count": 149,
   "id": "f2d01997",
   "metadata": {},
   "outputs": [],
   "source": [
    "my_dict = {'alpha': 1.0, 'beta': 3.1415, 'gamma': -99}\n"
   ]
  },
  {
   "cell_type": "code",
   "execution_count": 150,
   "id": "419e4e5a",
   "metadata": {},
   "outputs": [],
   "source": [
    "alpha_value = my_dict['alpha']\n"
   ]
  },
  {
   "cell_type": "markdown",
   "id": "cbe6cab9",
   "metadata": {},
   "source": [
    "10. Convert the final list at the end of problem 11 to a set. How is the set different from the list?"
   ]
  },
  {
   "cell_type": "code",
   "execution_count": 151,
   "id": "32e1f45d",
   "metadata": {},
   "outputs": [
    {
     "name": "stdout",
     "output_type": "stream",
     "text": [
      "List: [1, 2, 2, 3, 4, 4, 5]\n",
      "Set: {1, 2, 3, 4, 5}\n"
     ]
    }
   ],
   "source": [
    "my_list = [1, 2, 2, 3, 4, 4, 5]\n",
    "my_set = set(my_list)\n",
    "\n",
    "print(\"List:\", my_list)\n",
    "print(\"Set:\", my_set)\n"
   ]
  },
  {
   "cell_type": "code",
   "execution_count": null,
   "id": "e46dbb41",
   "metadata": {},
   "outputs": [],
   "source": []
  }
 ],
 "metadata": {
  "kernelspec": {
   "display_name": "Python 3 (ipykernel)",
   "language": "python",
   "name": "python3"
  },
  "language_info": {
   "codemirror_mode": {
    "name": "ipython",
    "version": 3
   },
   "file_extension": ".py",
   "mimetype": "text/x-python",
   "name": "python",
   "nbconvert_exporter": "python",
   "pygments_lexer": "ipython3",
   "version": "3.9.12"
  }
 },
 "nbformat": 4,
 "nbformat_minor": 5
}
